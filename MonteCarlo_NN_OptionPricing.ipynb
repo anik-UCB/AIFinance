{
 "cells": [
  {
   "cell_type": "code",
   "execution_count": 239,
   "metadata": {},
   "outputs": [],
   "source": [
    "import numpy as np\n",
    "from matplotlib import pyplot as plt\n",
    "import pandas as pd\n",
    "import math\n",
    "from math import exp, sqrt"
   ]
  },
  {
   "cell_type": "code",
   "execution_count": 316,
   "metadata": {},
   "outputs": [],
   "source": [
    "def generate_asset_price(S0,r,sigma,T,M,I):\n",
    "    dt = float(T) / M\n",
    "    paths = np.zeros((M + 1, I), np.float64)\n",
    "    paths[0] = S0\n",
    "    for t in range(1, M + 1):\n",
    "        rand = np.random.standard_normal(I)\n",
    "        paths[t] = paths[t - 1] * np.exp((r - 0.5 * sigma ** 2) * dt + sigma * np.sqrt(dt) * rand)\n",
    "    return paths"
   ]
  },
  {
   "cell_type": "code",
   "execution_count": 317,
   "metadata": {},
   "outputs": [],
   "source": [
    "S0 = 50.\n",
    "K = 60.\n",
    "r = 0.03\n",
    "sigma = 0.20\n",
    "T = 1\n",
    "N = 12\n",
    "deltat = T / N\n",
    "I = 100000\n",
    "discount_factor = np.exp(-r * T)"
   ]
  },
  {
   "cell_type": "code",
   "execution_count": 347,
   "metadata": {},
   "outputs": [
    {
     "data": {
      "text/plain": [
       "array([46.90589987, 50.68183943, 43.75800015, ..., 50.93477649,\n",
       "       51.88387489, 43.52883808])"
      ]
     },
     "execution_count": 347,
     "metadata": {},
     "output_type": "execute_result"
    }
   ],
   "source": [
    "np.random.seed(123)\n",
    "paths = generate_asset_price(S0, r, sigma, T, N, I)\n",
    "paths[4]"
   ]
  },
  {
   "cell_type": "code",
   "execution_count": 348,
   "metadata": {},
   "outputs": [
    {
     "name": "stdout",
     "output_type": "stream",
     "text": [
      "Please enter a number between 1 and 11 1\n"
     ]
    },
    {
     "data": {
      "text/plain": [
       "array([47.00140179, 53.00774871, 50.86596877, ..., 53.50427726,\n",
       "       57.09453792, 46.37432184])"
      ]
     },
     "execution_count": 348,
     "metadata": {},
     "output_type": "execute_result"
    }
   ],
   "source": [
    "#Plot the dataframe\n",
    "#pd.DataFrame(paths).plot()\n",
    "S_T = int(input(\"Please enter a number between 1 and 11 \"))\n",
    "paths[S_T]"
   ]
  },
  {
   "cell_type": "code",
   "execution_count": 349,
   "metadata": {},
   "outputs": [
    {
     "name": "stdout",
     "output_type": "stream",
     "text": [
      "0.9166666666666666\n"
     ]
    },
    {
     "data": {
      "text/plain": [
       "array([ 7.89184246, 16.32336283,  4.17479856, ...,  2.53206496,\n",
       "       13.42444544, 24.13982223])"
      ]
     },
     "execution_count": 349,
     "metadata": {},
     "output_type": "execute_result"
    }
   ],
   "source": [
    "#Payoff for a european put option\n",
    "PutPayoff = np.maximum(0,K - paths[N])\n",
    "time_step_back = (N-S_T)/N\n",
    "print(time_step_back)\n",
    "dis_payoff = np.exp(-r * time_step_back)*PutPayoff\n",
    "price = discount_factor * (sum(PutPayoff)/float(I))\n",
    "dis_payoff"
   ]
  },
  {
   "cell_type": "code",
   "execution_count": 350,
   "metadata": {},
   "outputs": [],
   "source": [
    "df_price = pd.DataFrame(paths[S_T], columns = ['Asset Price'])"
   ]
  },
  {
   "cell_type": "code",
   "execution_count": 351,
   "metadata": {},
   "outputs": [],
   "source": [
    "y = np.array(dis_payoff)\n",
    "x = np.array(df_price['Asset Price'])"
   ]
  },
  {
   "cell_type": "code",
   "execution_count": 352,
   "metadata": {},
   "outputs": [
    {
     "name": "stdout",
     "output_type": "stream",
     "text": [
      "[[47.00140179]\n",
      " [53.00774871]\n",
      " [50.86596877]\n",
      " ...\n",
      " [53.50427726]\n",
      " [57.09453792]\n",
      " [46.37432184]]\n",
      "[[ 7.89184246]\n",
      " [16.32336283]\n",
      " [ 4.17479856]\n",
      " ...\n",
      " [ 2.53206496]\n",
      " [13.42444544]\n",
      " [24.13982223]]\n"
     ]
    }
   ],
   "source": [
    "x = x.reshape(-1,1)\n",
    "print(x)\n",
    "y = y.reshape(-1,1)\n",
    "print(y)"
   ]
  },
  {
   "cell_type": "code",
   "execution_count": 353,
   "metadata": {},
   "outputs": [],
   "source": [
    "# With train-test split\n",
    "from sklearn.model_selection import train_test_split\n",
    "X_train, X_test, Y_train, Y_test = train_test_split(x, y, test_size = 0.3, random_state = 2)"
   ]
  },
  {
   "cell_type": "code",
   "execution_count": 362,
   "metadata": {},
   "outputs": [
    {
     "data": {
      "text/plain": [
       "array([[ 0.77951611],\n",
       "       [-1.02905726],\n",
       "       [ 0.16508593],\n",
       "       ...,\n",
       "       [ 1.05952812],\n",
       "       [-0.93044198],\n",
       "       [-0.61450211]])"
      ]
     },
     "execution_count": 362,
     "metadata": {},
     "output_type": "execute_result"
    }
   ],
   "source": [
    "from sklearn import preprocessing\n",
    "#%% Standardization\n",
    "scaler = preprocessing.StandardScaler().fit(X_train)\n",
    "X_train = scaler.transform(X_train)\n",
    "X_test  = scaler.transform(X_test)\n",
    "sc = preprocessing.StandardScaler().fit(Y_train)\n",
    "Y_train = sc.transform(Y_train)\n",
    "Y_test = sc.transform(Y_test)\n",
    "Y_train"
   ]
  },
  {
   "cell_type": "code",
   "execution_count": 363,
   "metadata": {},
   "outputs": [],
   "source": [
    "del scaler\n",
    "del sc"
   ]
  },
  {
   "cell_type": "code",
   "execution_count": 364,
   "metadata": {},
   "outputs": [],
   "source": [
    "df_Y_test = pd.DataFrame(Y_test, columns = ['Discounted Payoff'])"
   ]
  },
  {
   "cell_type": "code",
   "execution_count": 365,
   "metadata": {},
   "outputs": [],
   "source": [
    "from sklearn.neural_network import MLPRegressor\n",
    "# mlp = MLPClassifier(hidden_layer_sizes=(100, 100), max_iter=400, alpha=1e-4,\n",
    "#                     solver='sgd', verbose=10, tol=1e-4, random_state=1)\n",
    "mlp = MLPRegressor(hidden_layer_sizes=(100,), alpha=1e-4,\n",
    "                    solver='adam', activation = 'relu', verbose=0, tol=1e-4, random_state=9)"
   ]
  },
  {
   "cell_type": "code",
   "execution_count": 366,
   "metadata": {},
   "outputs": [
    {
     "name": "stderr",
     "output_type": "stream",
     "text": [
      "/anaconda3/lib/python3.6/site-packages/sklearn/neural_network/multilayer_perceptron.py:1306: DataConversionWarning: A column-vector y was passed when a 1d array was expected. Please change the shape of y to (n_samples, ), for example using ravel().\n",
      "  y = column_or_1d(y, warn=True)\n"
     ]
    },
    {
     "data": {
      "text/plain": [
       "MLPRegressor(activation='relu', alpha=0.0001, batch_size='auto', beta_1=0.9,\n",
       "       beta_2=0.999, early_stopping=False, epsilon=1e-08,\n",
       "       hidden_layer_sizes=(100,), learning_rate='constant',\n",
       "       learning_rate_init=0.001, max_iter=200, momentum=0.9,\n",
       "       nesterovs_momentum=True, power_t=0.5, random_state=9, shuffle=True,\n",
       "       solver='adam', tol=0.0001, validation_fraction=0.1, verbose=0,\n",
       "       warm_start=False)"
      ]
     },
     "execution_count": 366,
     "metadata": {},
     "output_type": "execute_result"
    }
   ],
   "source": [
    "mlp.fit(X_train,Y_train)"
   ]
  },
  {
   "cell_type": "code",
   "execution_count": 367,
   "metadata": {},
   "outputs": [],
   "source": [
    "Y_pred = mlp.predict(X_test)"
   ]
  },
  {
   "cell_type": "code",
   "execution_count": 368,
   "metadata": {},
   "outputs": [
    {
     "name": "stdout",
     "output_type": "stream",
     "text": [
      "0.9603040490389061\n",
      "0.9677508251726248\n",
      "0.07781613339948212\n",
      "0.07605426886533395\n"
     ]
    }
   ],
   "source": [
    "#Root Mean Squared Error\n",
    "import math\n",
    "from sklearn.metrics import mean_squared_error, r2_score\n",
    "trainScore = math.sqrt(mean_squared_error(Y_train, mlp.predict(X_train)))\n",
    "testScore = math.sqrt(mean_squared_error(Y_test, Y_pred))\n",
    "r2_train = r2_score(Y_train, mlp.predict(X_train))\n",
    "r2_test = r2_score(Y_test, Y_pred)\n",
    "\n",
    "#trainPredict = model.predict(X_train)\n",
    "#testPredict = model.predict(X_test)\n",
    "# calculate root mean squared error\n",
    "#trainScore = math.sqrt(mean_squared_error(y_train, trainPredict))\n",
    "#testScore = math.sqrt(mean_squared_error(y_test, testPredict))\n",
    "print(trainScore)\n",
    "print(testScore)\n",
    "print(r2_train)\n",
    "print(r2_test)"
   ]
  },
  {
   "cell_type": "code",
   "execution_count": 370,
   "metadata": {},
   "outputs": [
    {
     "data": {
      "text/html": [
       "<div>\n",
       "<style scoped>\n",
       "    .dataframe tbody tr th:only-of-type {\n",
       "        vertical-align: middle;\n",
       "    }\n",
       "\n",
       "    .dataframe tbody tr th {\n",
       "        vertical-align: top;\n",
       "    }\n",
       "\n",
       "    .dataframe thead th {\n",
       "        text-align: right;\n",
       "    }\n",
       "</style>\n",
       "<table border=\"1\" class=\"dataframe\">\n",
       "  <thead>\n",
       "    <tr style=\"text-align: right;\">\n",
       "      <th></th>\n",
       "      <th>Discounted Payoff</th>\n",
       "      <th>Discounted Payoff from Neural Net</th>\n",
       "    </tr>\n",
       "  </thead>\n",
       "  <tbody>\n",
       "    <tr>\n",
       "      <th>0</th>\n",
       "      <td>0.768148</td>\n",
       "      <td>-0.084745</td>\n",
       "    </tr>\n",
       "    <tr>\n",
       "      <th>1</th>\n",
       "      <td>-0.893699</td>\n",
       "      <td>0.207010</td>\n",
       "    </tr>\n",
       "    <tr>\n",
       "      <th>2</th>\n",
       "      <td>-0.012074</td>\n",
       "      <td>-0.349600</td>\n",
       "    </tr>\n",
       "    <tr>\n",
       "      <th>3</th>\n",
       "      <td>-0.140270</td>\n",
       "      <td>0.340829</td>\n",
       "    </tr>\n",
       "    <tr>\n",
       "      <th>4</th>\n",
       "      <td>-0.974382</td>\n",
       "      <td>0.069766</td>\n",
       "    </tr>\n",
       "    <tr>\n",
       "      <th>5</th>\n",
       "      <td>2.179483</td>\n",
       "      <td>0.209855</td>\n",
       "    </tr>\n",
       "    <tr>\n",
       "      <th>6</th>\n",
       "      <td>-1.248540</td>\n",
       "      <td>-0.078523</td>\n",
       "    </tr>\n",
       "    <tr>\n",
       "      <th>7</th>\n",
       "      <td>1.026685</td>\n",
       "      <td>0.371550</td>\n",
       "    </tr>\n",
       "    <tr>\n",
       "      <th>8</th>\n",
       "      <td>-0.362728</td>\n",
       "      <td>-0.662506</td>\n",
       "    </tr>\n",
       "    <tr>\n",
       "      <th>9</th>\n",
       "      <td>0.127390</td>\n",
       "      <td>0.201748</td>\n",
       "    </tr>\n",
       "  </tbody>\n",
       "</table>\n",
       "</div>"
      ],
      "text/plain": [
       "   Discounted Payoff  Discounted Payoff from Neural Net\n",
       "0           0.768148                          -0.084745\n",
       "1          -0.893699                           0.207010\n",
       "2          -0.012074                          -0.349600\n",
       "3          -0.140270                           0.340829\n",
       "4          -0.974382                           0.069766\n",
       "5           2.179483                           0.209855\n",
       "6          -1.248540                          -0.078523\n",
       "7           1.026685                           0.371550\n",
       "8          -0.362728                          -0.662506\n",
       "9           0.127390                           0.201748"
      ]
     },
     "execution_count": 370,
     "metadata": {},
     "output_type": "execute_result"
    }
   ],
   "source": [
    "df_Y_pred = pd.DataFrame(Y_pred, columns = ['Discounted Payoff from Neural Net'])\n",
    "test_vals = pd.concat([df_Y_test, df_Y_pred], axis=1)\n",
    "test_vals.head(10)"
   ]
  },
  {
   "cell_type": "code",
   "execution_count": null,
   "metadata": {},
   "outputs": [],
   "source": []
  }
 ],
 "metadata": {
  "kernelspec": {
   "display_name": "Python 3",
   "language": "python",
   "name": "python3"
  },
  "language_info": {
   "codemirror_mode": {
    "name": "ipython",
    "version": 3
   },
   "file_extension": ".py",
   "mimetype": "text/x-python",
   "name": "python",
   "nbconvert_exporter": "python",
   "pygments_lexer": "ipython3",
   "version": "3.6.4"
  }
 },
 "nbformat": 4,
 "nbformat_minor": 2
}
